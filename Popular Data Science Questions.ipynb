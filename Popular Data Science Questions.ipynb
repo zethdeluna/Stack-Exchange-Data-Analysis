{
 "cells": [
  {
   "cell_type": "markdown",
   "metadata": {},
   "source": [
    "# Popular Data Science Questions\n",
    "_By: Zeth De Luna &mdash; Date: August 22, 2020_\n",
    "\n",
    "The goal of this project is to find the best topics that a data science content creator should write about. More specifically, we can translate \"best\" as \"What is it that most people want to learn about in data science?\". By answering this question, we can hopefully suggest content topics that would get the most visits.\n",
    "\n",
    "So, what is it that most people want to learn about in data science? One way we can find out is by looking through a popular \"question and answer\" website about programming, called [Stack Overflow](https://stackoverflow.com/) (I know I've visited this website at least a hundred times). Stack Overflow is actually part of a much larger Q&A website called [Stack Exchange](https://stackexchange.com/), which is home to Q&A sites on a multitude of fields and subjects, including math, physics, philosophy, and more.\n",
    "\n",
    "Since data science is a multidisciplinary field, there are several Stack Exchange websites that are relevant to our goal:\n",
    "* [Data Science](https://datascience.stackexchange.com/)\n",
    "* [Cross Validated](https://stats.stackexchange.com/)\n",
    "* [Artificial Intelligence](https://ai.stackexchange.com/)\n",
    "* [Mathematics](https://math.stackexchange.com/)\n",
    "* [Stack Overflow](https://stackoverflow.com/)\n",
    "\n",
    "A list of all the websites available on Stack Exchange is available [here](https://stackexchange.com/sites?view=list#percentanswered), ordered by the percentage of questions answered.\n",
    "\n",
    "## Accessing the Data\n",
    "Now we just need to access the data _en masse_. One way to do it is to scrape the website, which can be tedious. Luckily, Stack Exchange provides a public data base, called Stack Exchange Data Explorer ([SEDE](https://data.stackexchange.com/)), for each of its websites. If we take a look at this website, we can see that in the upper right area of the page we can compose our own queries using SQL (SEDE uses Transact-SQL &mdash; Microsoft's \"version\" of SQL). \n",
    "\n",
    "After exploring the tables available in the Data Science Stack Exchange database ([DSSE](https://data.stackexchange.com/datascience/query/new)), we found the following tables the most promising towards finding the most popular content:\n",
    "* Tags\n",
    "* TagSynonyms\n",
    "* Posts\n",
    "\n",
    "Let's take a look at the Posts table. This table has a lot of columns, so to make things easier we'll focus on those that seem relevant to our goal:\n",
    "* `Id`: identification number for the post\n",
    "* `PostTypeId`: identification number for the type of post\n",
    "* `CreationDate`: date and time of creation of the post\n",
    "* `Score`: the post's score\n",
    "* `ViewCount`: how many times the post has been viewed\n",
    "* `Tags`: what tags were used\n",
    "* `AnswerCount`: how many answers the questions got (only applicable to question posts)\n",
    "* `FavoriteCount`: how many times the question was favored or bookmarked (only applicable to question posts)\n",
    "\n",
    "Let's find the types of posts and how many of each there are by creating a query in the Data Science database:\n",
    "\n",
    "    SELECT PostTypeId, COUNT(*) as Num_of_Posts\n",
    "     FROM Posts\n",
    "     GROUP BY PostTypeId\n",
    "     ORDER BY PostTypeId;\n",
    "\n",
    "| PostTypeId | Num_of_Posts |\n",
    "|------------|--------------|\n",
    "| 1          | 25503        |\n",
    "| 2          | 28231        |\n",
    "| 4          | 239          |\n",
    "| 5          | 239          |\n",
    "| 6          | 11           |\n",
    "| 7          | 1            |\n",
    "\n",
    "And the `PostTypeId` descriptions:\n",
    "\n",
    "    SELECT * FROM PostTypes;\n",
    "\n",
    "| Id |        Name         |\n",
    "|----|---------------------|\n",
    "| 1  | Question            |\n",
    "| 2  | Answer              |\n",
    "| 3  | Wiki                |\n",
    "| 4  | TagWikiExcerpt      |\n",
    "| 5  | TagWiki             |\n",
    "| 6  | ModeratorNomination |\n",
    "| 7  | WikiPlaceholder     |\n",
    "| 8  | PrivilegeWiki       |\n",
    "\n",
    "Due to their low volume, anything that isn't questions or answers is mostly inconsequential. We'll just focus on the questions.\n",
    "\n",
    "Since we're only interested in recent posts, we'll limit our analysis to the question posts of 2019 and 2020. The following query into the DSSE will extract our desired posts and columns: \n",
    "\n",
    "    SELECT \n",
    "      Id, \n",
    "      PostTypeId, \n",
    "      CreationDate, \n",
    "      Score, \n",
    "      ViewCount, \n",
    "      Tags, \n",
    "      AnswerCount, \n",
    "      FavoriteCount\n",
    "    FROM Posts\n",
    "    WHERE PostTypeId = 1 AND YEAR(CreationDate) >= 2019\n",
    "    ORDER BY CreationDate ASC;\n",
    "    \n",
    "The resulting dataset was saved in a file called `DSSE_19_20_questions.csv`. Let's explore this dataset."
   ]
  },
  {
   "cell_type": "markdown",
   "metadata": {},
   "source": [
    "## Exploring the Dataset"
   ]
  },
  {
   "cell_type": "code",
   "execution_count": 1,
   "metadata": {},
   "outputs": [
    {
     "name": "stderr",
     "output_type": "stream",
     "text": [
      "/Library/Frameworks/Python.framework/Versions/3.7/lib/python3.7/site-packages/statsmodels/tools/_testing.py:19: FutureWarning: pandas.util.testing is deprecated. Use the functions in the public API at pandas.testing instead.\n",
      "  import pandas.util.testing as tm\n"
     ]
    }
   ],
   "source": [
    "import pandas as pd\n",
    "import matplotlib.pyplot as plt\n",
    "import seaborn as sns\n",
    "import datetime as dt\n",
    "import numpy as np\n",
    "import math\n",
    "\n",
    "%matplotlib inline"
   ]
  },
  {
   "cell_type": "code",
   "execution_count": 2,
   "metadata": {},
   "outputs": [],
   "source": [
    "questions = pd.read_csv('DSSE_19_20_questions.csv', parse_dates=['CreationDate'])"
   ]
  },
  {
   "cell_type": "code",
   "execution_count": 3,
   "metadata": {},
   "outputs": [
    {
     "data": {
      "text/html": [
       "<div>\n",
       "<style scoped>\n",
       "    .dataframe tbody tr th:only-of-type {\n",
       "        vertical-align: middle;\n",
       "    }\n",
       "\n",
       "    .dataframe tbody tr th {\n",
       "        vertical-align: top;\n",
       "    }\n",
       "\n",
       "    .dataframe thead th {\n",
       "        text-align: right;\n",
       "    }\n",
       "</style>\n",
       "<table border=\"1\" class=\"dataframe\">\n",
       "  <thead>\n",
       "    <tr style=\"text-align: right;\">\n",
       "      <th></th>\n",
       "      <th>Id</th>\n",
       "      <th>PostTypeId</th>\n",
       "      <th>CreationDate</th>\n",
       "      <th>Score</th>\n",
       "      <th>ViewCount</th>\n",
       "      <th>Tags</th>\n",
       "      <th>AnswerCount</th>\n",
       "      <th>FavoriteCount</th>\n",
       "    </tr>\n",
       "  </thead>\n",
       "  <tbody>\n",
       "    <tr>\n",
       "      <th>0</th>\n",
       "      <td>43363</td>\n",
       "      <td>1</td>\n",
       "      <td>2019-01-01 03:53:02</td>\n",
       "      <td>0</td>\n",
       "      <td>35</td>\n",
       "      <td>&lt;machine-learning&gt;&lt;nlp&gt;</td>\n",
       "      <td>1</td>\n",
       "      <td>NaN</td>\n",
       "    </tr>\n",
       "    <tr>\n",
       "      <th>1</th>\n",
       "      <td>43366</td>\n",
       "      <td>1</td>\n",
       "      <td>2019-01-01 06:02:07</td>\n",
       "      <td>2</td>\n",
       "      <td>50</td>\n",
       "      <td>&lt;deep-learning&gt;&lt;convnet&gt;&lt;image-classification&gt;</td>\n",
       "      <td>1</td>\n",
       "      <td>1.0</td>\n",
       "    </tr>\n",
       "    <tr>\n",
       "      <th>2</th>\n",
       "      <td>43367</td>\n",
       "      <td>1</td>\n",
       "      <td>2019-01-01 06:16:26</td>\n",
       "      <td>0</td>\n",
       "      <td>24</td>\n",
       "      <td>&lt;scikit-learn&gt;&lt;tensorflow&gt;&lt;scipy&gt;</td>\n",
       "      <td>1</td>\n",
       "      <td>NaN</td>\n",
       "    </tr>\n",
       "    <tr>\n",
       "      <th>3</th>\n",
       "      <td>43370</td>\n",
       "      <td>1</td>\n",
       "      <td>2019-01-01 10:06:03</td>\n",
       "      <td>2</td>\n",
       "      <td>37</td>\n",
       "      <td>&lt;classification&gt;</td>\n",
       "      <td>0</td>\n",
       "      <td>NaN</td>\n",
       "    </tr>\n",
       "    <tr>\n",
       "      <th>4</th>\n",
       "      <td>43374</td>\n",
       "      <td>1</td>\n",
       "      <td>2019-01-01 13:18:02</td>\n",
       "      <td>3</td>\n",
       "      <td>37</td>\n",
       "      <td>&lt;deep-learning&gt;&lt;time-series&gt;&lt;cnn&gt;&lt;convolution&gt;</td>\n",
       "      <td>1</td>\n",
       "      <td>NaN</td>\n",
       "    </tr>\n",
       "  </tbody>\n",
       "</table>\n",
       "</div>"
      ],
      "text/plain": [
       "      Id  PostTypeId        CreationDate  Score  ViewCount  \\\n",
       "0  43363           1 2019-01-01 03:53:02      0         35   \n",
       "1  43366           1 2019-01-01 06:02:07      2         50   \n",
       "2  43367           1 2019-01-01 06:16:26      0         24   \n",
       "3  43370           1 2019-01-01 10:06:03      2         37   \n",
       "4  43374           1 2019-01-01 13:18:02      3         37   \n",
       "\n",
       "                                             Tags  AnswerCount  FavoriteCount  \n",
       "0                         <machine-learning><nlp>            1            NaN  \n",
       "1  <deep-learning><convnet><image-classification>            1            1.0  \n",
       "2               <scikit-learn><tensorflow><scipy>            1            NaN  \n",
       "3                                <classification>            0            NaN  \n",
       "4  <deep-learning><time-series><cnn><convolution>            1            NaN  "
      ]
     },
     "execution_count": 3,
     "metadata": {},
     "output_type": "execute_result"
    }
   ],
   "source": [
    "questions.head()"
   ]
  },
  {
   "cell_type": "code",
   "execution_count": 4,
   "metadata": {},
   "outputs": [
    {
     "data": {
      "text/plain": [
       "Id                   0\n",
       "PostTypeId           0\n",
       "CreationDate         0\n",
       "Score                0\n",
       "ViewCount            0\n",
       "Tags                 0\n",
       "AnswerCount          0\n",
       "FavoriteCount    11120\n",
       "dtype: int64"
      ]
     },
     "execution_count": 4,
     "metadata": {},
     "output_type": "execute_result"
    }
   ],
   "source": [
    "questions.isnull().sum()"
   ]
  },
  {
   "cell_type": "markdown",
   "metadata": {},
   "source": [
    "Quickly, we see that the `FavoriteCount` column has some missing values. Upon further investigation, we see that `FavoriteCount` has over 11,000 missing values, while the rest of the columns have no missing values. Since `FavoriteCount` represents that number of times that a post has been favorited, we can assume that a `NaN` value means that the post has not been favorited by anyone. So, to fix these missing values, we can replace all `NaN` values with `0`."
   ]
  },
  {
   "cell_type": "code",
   "execution_count": 5,
   "metadata": {},
   "outputs": [
    {
     "name": "stdout",
     "output_type": "stream",
     "text": [
      "<class 'pandas.core.frame.DataFrame'>\n",
      "RangeIndex: 13251 entries, 0 to 13250\n",
      "Data columns (total 8 columns):\n",
      " #   Column         Non-Null Count  Dtype         \n",
      "---  ------         --------------  -----         \n",
      " 0   Id             13251 non-null  int64         \n",
      " 1   PostTypeId     13251 non-null  int64         \n",
      " 2   CreationDate   13251 non-null  datetime64[ns]\n",
      " 3   Score          13251 non-null  int64         \n",
      " 4   ViewCount      13251 non-null  int64         \n",
      " 5   Tags           13251 non-null  object        \n",
      " 6   AnswerCount    13251 non-null  int64         \n",
      " 7   FavoriteCount  2131 non-null   float64       \n",
      "dtypes: datetime64[ns](1), float64(1), int64(5), object(1)\n",
      "memory usage: 828.3+ KB\n"
     ]
    }
   ],
   "source": [
    "questions.info()"
   ]
  },
  {
   "cell_type": "markdown",
   "metadata": {},
   "source": [
    "The data types of each column seems fitting, but for sake of consistency we can convert `FavoriteCount` dtype to `int` after we replace the `NaN` values.\n",
    "\n",
    "We also noticed that the values in the `Tags` column are lists of words separated by `< >`. To make them easier to read, we can transform the values as shown below.\n",
    "\n",
    "Original:\n",
    "`<deep-learning><convnet><image-classification>`\n",
    "    \n",
    "New:\n",
    "`[deep-learning,convnet,image-classification]`\n",
    "\n",
    "## Cleaning the Data\n",
    "\n",
    "Now that we've identified the major problems with the dataset, let's fix them."
   ]
  },
  {
   "cell_type": "code",
   "execution_count": 6,
   "metadata": {},
   "outputs": [],
   "source": [
    "# replace NaN values with 0\n",
    "questions['FavoriteCount'].fillna(value=0, inplace=True)"
   ]
  },
  {
   "cell_type": "code",
   "execution_count": 7,
   "metadata": {},
   "outputs": [],
   "source": [
    "# convert FavoriteCount dtype to int\n",
    "questions['FavoriteCount'] = questions['FavoriteCount'].astype(int)"
   ]
  },
  {
   "cell_type": "code",
   "execution_count": 8,
   "metadata": {},
   "outputs": [
    {
     "name": "stdout",
     "output_type": "stream",
     "text": [
      "<class 'pandas.core.frame.DataFrame'>\n",
      "RangeIndex: 13251 entries, 0 to 13250\n",
      "Data columns (total 8 columns):\n",
      " #   Column         Non-Null Count  Dtype         \n",
      "---  ------         --------------  -----         \n",
      " 0   Id             13251 non-null  int64         \n",
      " 1   PostTypeId     13251 non-null  int64         \n",
      " 2   CreationDate   13251 non-null  datetime64[ns]\n",
      " 3   Score          13251 non-null  int64         \n",
      " 4   ViewCount      13251 non-null  int64         \n",
      " 5   Tags           13251 non-null  object        \n",
      " 6   AnswerCount    13251 non-null  int64         \n",
      " 7   FavoriteCount  13251 non-null  int64         \n",
      "dtypes: datetime64[ns](1), int64(6), object(1)\n",
      "memory usage: 828.3+ KB\n"
     ]
    }
   ],
   "source": [
    "questions.info()"
   ]
  },
  {
   "cell_type": "code",
   "execution_count": 9,
   "metadata": {},
   "outputs": [],
   "source": [
    "# convert each Tags to a list of strings\n",
    "questions['Tags'] = (questions['Tags']\n",
    "                        .str.replace('^<|>$', '')\n",
    "                        .str.split('><'))"
   ]
  },
  {
   "cell_type": "code",
   "execution_count": 10,
   "metadata": {},
   "outputs": [
    {
     "data": {
      "text/html": [
       "<div>\n",
       "<style scoped>\n",
       "    .dataframe tbody tr th:only-of-type {\n",
       "        vertical-align: middle;\n",
       "    }\n",
       "\n",
       "    .dataframe tbody tr th {\n",
       "        vertical-align: top;\n",
       "    }\n",
       "\n",
       "    .dataframe thead th {\n",
       "        text-align: right;\n",
       "    }\n",
       "</style>\n",
       "<table border=\"1\" class=\"dataframe\">\n",
       "  <thead>\n",
       "    <tr style=\"text-align: right;\">\n",
       "      <th></th>\n",
       "      <th>Id</th>\n",
       "      <th>PostTypeId</th>\n",
       "      <th>CreationDate</th>\n",
       "      <th>Score</th>\n",
       "      <th>ViewCount</th>\n",
       "      <th>Tags</th>\n",
       "      <th>AnswerCount</th>\n",
       "      <th>FavoriteCount</th>\n",
       "    </tr>\n",
       "  </thead>\n",
       "  <tbody>\n",
       "    <tr>\n",
       "      <th>0</th>\n",
       "      <td>43363</td>\n",
       "      <td>1</td>\n",
       "      <td>2019-01-01 03:53:02</td>\n",
       "      <td>0</td>\n",
       "      <td>35</td>\n",
       "      <td>[machine-learning, nlp]</td>\n",
       "      <td>1</td>\n",
       "      <td>0</td>\n",
       "    </tr>\n",
       "    <tr>\n",
       "      <th>1</th>\n",
       "      <td>43366</td>\n",
       "      <td>1</td>\n",
       "      <td>2019-01-01 06:02:07</td>\n",
       "      <td>2</td>\n",
       "      <td>50</td>\n",
       "      <td>[deep-learning, convnet, image-classification]</td>\n",
       "      <td>1</td>\n",
       "      <td>1</td>\n",
       "    </tr>\n",
       "    <tr>\n",
       "      <th>2</th>\n",
       "      <td>43367</td>\n",
       "      <td>1</td>\n",
       "      <td>2019-01-01 06:16:26</td>\n",
       "      <td>0</td>\n",
       "      <td>24</td>\n",
       "      <td>[scikit-learn, tensorflow, scipy]</td>\n",
       "      <td>1</td>\n",
       "      <td>0</td>\n",
       "    </tr>\n",
       "    <tr>\n",
       "      <th>3</th>\n",
       "      <td>43370</td>\n",
       "      <td>1</td>\n",
       "      <td>2019-01-01 10:06:03</td>\n",
       "      <td>2</td>\n",
       "      <td>37</td>\n",
       "      <td>[classification]</td>\n",
       "      <td>0</td>\n",
       "      <td>0</td>\n",
       "    </tr>\n",
       "    <tr>\n",
       "      <th>4</th>\n",
       "      <td>43374</td>\n",
       "      <td>1</td>\n",
       "      <td>2019-01-01 13:18:02</td>\n",
       "      <td>3</td>\n",
       "      <td>37</td>\n",
       "      <td>[deep-learning, time-series, cnn, convolution]</td>\n",
       "      <td>1</td>\n",
       "      <td>0</td>\n",
       "    </tr>\n",
       "  </tbody>\n",
       "</table>\n",
       "</div>"
      ],
      "text/plain": [
       "      Id  PostTypeId        CreationDate  Score  ViewCount  \\\n",
       "0  43363           1 2019-01-01 03:53:02      0         35   \n",
       "1  43366           1 2019-01-01 06:02:07      2         50   \n",
       "2  43367           1 2019-01-01 06:16:26      0         24   \n",
       "3  43370           1 2019-01-01 10:06:03      2         37   \n",
       "4  43374           1 2019-01-01 13:18:02      3         37   \n",
       "\n",
       "                                             Tags  AnswerCount  FavoriteCount  \n",
       "0                         [machine-learning, nlp]            1              0  \n",
       "1  [deep-learning, convnet, image-classification]            1              1  \n",
       "2               [scikit-learn, tensorflow, scipy]            1              0  \n",
       "3                                [classification]            0              0  \n",
       "4  [deep-learning, time-series, cnn, convolution]            1              0  "
      ]
     },
     "execution_count": 10,
     "metadata": {},
     "output_type": "execute_result"
    }
   ],
   "source": [
    "questions.head()"
   ]
  },
  {
   "cell_type": "markdown",
   "metadata": {},
   "source": [
    "Since we already know that all of these posts are questions, `PostTypeId` is a bit redundant. So, we can just remove that column."
   ]
  },
  {
   "cell_type": "code",
   "execution_count": 11,
   "metadata": {},
   "outputs": [],
   "source": [
    "questions.drop(columns=['PostTypeId'], inplace=True)"
   ]
  },
  {
   "cell_type": "code",
   "execution_count": 12,
   "metadata": {},
   "outputs": [
    {
     "data": {
      "text/html": [
       "<div>\n",
       "<style scoped>\n",
       "    .dataframe tbody tr th:only-of-type {\n",
       "        vertical-align: middle;\n",
       "    }\n",
       "\n",
       "    .dataframe tbody tr th {\n",
       "        vertical-align: top;\n",
       "    }\n",
       "\n",
       "    .dataframe thead th {\n",
       "        text-align: right;\n",
       "    }\n",
       "</style>\n",
       "<table border=\"1\" class=\"dataframe\">\n",
       "  <thead>\n",
       "    <tr style=\"text-align: right;\">\n",
       "      <th></th>\n",
       "      <th>Id</th>\n",
       "      <th>CreationDate</th>\n",
       "      <th>Score</th>\n",
       "      <th>ViewCount</th>\n",
       "      <th>Tags</th>\n",
       "      <th>AnswerCount</th>\n",
       "      <th>FavoriteCount</th>\n",
       "    </tr>\n",
       "  </thead>\n",
       "  <tbody>\n",
       "    <tr>\n",
       "      <th>0</th>\n",
       "      <td>43363</td>\n",
       "      <td>2019-01-01 03:53:02</td>\n",
       "      <td>0</td>\n",
       "      <td>35</td>\n",
       "      <td>[machine-learning, nlp]</td>\n",
       "      <td>1</td>\n",
       "      <td>0</td>\n",
       "    </tr>\n",
       "    <tr>\n",
       "      <th>1</th>\n",
       "      <td>43366</td>\n",
       "      <td>2019-01-01 06:02:07</td>\n",
       "      <td>2</td>\n",
       "      <td>50</td>\n",
       "      <td>[deep-learning, convnet, image-classification]</td>\n",
       "      <td>1</td>\n",
       "      <td>1</td>\n",
       "    </tr>\n",
       "    <tr>\n",
       "      <th>2</th>\n",
       "      <td>43367</td>\n",
       "      <td>2019-01-01 06:16:26</td>\n",
       "      <td>0</td>\n",
       "      <td>24</td>\n",
       "      <td>[scikit-learn, tensorflow, scipy]</td>\n",
       "      <td>1</td>\n",
       "      <td>0</td>\n",
       "    </tr>\n",
       "    <tr>\n",
       "      <th>3</th>\n",
       "      <td>43370</td>\n",
       "      <td>2019-01-01 10:06:03</td>\n",
       "      <td>2</td>\n",
       "      <td>37</td>\n",
       "      <td>[classification]</td>\n",
       "      <td>0</td>\n",
       "      <td>0</td>\n",
       "    </tr>\n",
       "    <tr>\n",
       "      <th>4</th>\n",
       "      <td>43374</td>\n",
       "      <td>2019-01-01 13:18:02</td>\n",
       "      <td>3</td>\n",
       "      <td>37</td>\n",
       "      <td>[deep-learning, time-series, cnn, convolution]</td>\n",
       "      <td>1</td>\n",
       "      <td>0</td>\n",
       "    </tr>\n",
       "  </tbody>\n",
       "</table>\n",
       "</div>"
      ],
      "text/plain": [
       "      Id        CreationDate  Score  ViewCount  \\\n",
       "0  43363 2019-01-01 03:53:02      0         35   \n",
       "1  43366 2019-01-01 06:02:07      2         50   \n",
       "2  43367 2019-01-01 06:16:26      0         24   \n",
       "3  43370 2019-01-01 10:06:03      2         37   \n",
       "4  43374 2019-01-01 13:18:02      3         37   \n",
       "\n",
       "                                             Tags  AnswerCount  FavoriteCount  \n",
       "0                         [machine-learning, nlp]            1              0  \n",
       "1  [deep-learning, convnet, image-classification]            1              1  \n",
       "2               [scikit-learn, tensorflow, scipy]            1              0  \n",
       "3                                [classification]            0              0  \n",
       "4  [deep-learning, time-series, cnn, convolution]            1              0  "
      ]
     },
     "execution_count": 12,
     "metadata": {},
     "output_type": "execute_result"
    }
   ],
   "source": [
    "questions.head()"
   ]
  },
  {
   "cell_type": "markdown",
   "metadata": {},
   "source": [
    "The dataset looks nice and clean!\n",
    "\n",
    "## Analyzing the Tags\n",
    "\n",
    "Recall that our goal is to find the most popular topics in Data Science so that the content creator can focus their energy on writing about topics that will surely get views.\n",
    "\n",
    "We can find the most popular tags by considering two differnt popularity proxies:\n",
    "1. For each tag we'll count how many times the tag was used\n",
    "2. We'll count how many times a question with that tag was viewed\n",
    "\n",
    "### 1. Most Used Tags"
   ]
  },
  {
   "cell_type": "code",
   "execution_count": 13,
   "metadata": {},
   "outputs": [],
   "source": [
    "# count the number of times a tag appears in the Tags column\n",
    "tag_count = dict()\n",
    "\n",
    "for tags in questions['Tags']:\n",
    "    for tag in tags:\n",
    "        if tag in tag_count:\n",
    "            tag_count[tag] += 1\n",
    "        else:\n",
    "            tag_count[tag] = 1\n",
    "            \n",
    "# convert tag_count into a dataframe            \n",
    "tag_count = pd.DataFrame.from_dict(tag_count, orient='index')"
   ]
  },
  {
   "cell_type": "code",
   "execution_count": 14,
   "metadata": {},
   "outputs": [
    {
     "data": {
      "text/html": [
       "<div>\n",
       "<style scoped>\n",
       "    .dataframe tbody tr th:only-of-type {\n",
       "        vertical-align: middle;\n",
       "    }\n",
       "\n",
       "    .dataframe tbody tr th {\n",
       "        vertical-align: top;\n",
       "    }\n",
       "\n",
       "    .dataframe thead th {\n",
       "        text-align: right;\n",
       "    }\n",
       "</style>\n",
       "<table border=\"1\" class=\"dataframe\">\n",
       "  <thead>\n",
       "    <tr style=\"text-align: right;\">\n",
       "      <th></th>\n",
       "      <th>0</th>\n",
       "    </tr>\n",
       "  </thead>\n",
       "  <tbody>\n",
       "    <tr>\n",
       "      <th>machine-learning</th>\n",
       "      <td>3941</td>\n",
       "    </tr>\n",
       "    <tr>\n",
       "      <th>nlp</th>\n",
       "      <td>791</td>\n",
       "    </tr>\n",
       "    <tr>\n",
       "      <th>deep-learning</th>\n",
       "      <td>1763</td>\n",
       "    </tr>\n",
       "    <tr>\n",
       "      <th>convnet</th>\n",
       "      <td>153</td>\n",
       "    </tr>\n",
       "    <tr>\n",
       "      <th>image-classification</th>\n",
       "      <td>322</td>\n",
       "    </tr>\n",
       "  </tbody>\n",
       "</table>\n",
       "</div>"
      ],
      "text/plain": [
       "                         0\n",
       "machine-learning      3941\n",
       "nlp                    791\n",
       "deep-learning         1763\n",
       "convnet                153\n",
       "image-classification   322"
      ]
     },
     "execution_count": 14,
     "metadata": {},
     "output_type": "execute_result"
    }
   ],
   "source": [
    "tag_count.head()"
   ]
  },
  {
   "cell_type": "code",
   "execution_count": 15,
   "metadata": {},
   "outputs": [],
   "source": [
    "tag_count.rename(columns={0:'Count'}, inplace=True)"
   ]
  },
  {
   "cell_type": "code",
   "execution_count": 16,
   "metadata": {},
   "outputs": [],
   "source": [
    "tag_count.sort_values(by='Count', ascending=False, inplace=True)"
   ]
  },
  {
   "cell_type": "code",
   "execution_count": 17,
   "metadata": {},
   "outputs": [
    {
     "data": {
      "text/html": [
       "<div>\n",
       "<style scoped>\n",
       "    .dataframe tbody tr th:only-of-type {\n",
       "        vertical-align: middle;\n",
       "    }\n",
       "\n",
       "    .dataframe tbody tr th {\n",
       "        vertical-align: top;\n",
       "    }\n",
       "\n",
       "    .dataframe thead th {\n",
       "        text-align: right;\n",
       "    }\n",
       "</style>\n",
       "<table border=\"1\" class=\"dataframe\">\n",
       "  <thead>\n",
       "    <tr style=\"text-align: right;\">\n",
       "      <th></th>\n",
       "      <th>Count</th>\n",
       "    </tr>\n",
       "  </thead>\n",
       "  <tbody>\n",
       "    <tr>\n",
       "      <th>machine-learning</th>\n",
       "      <td>3941</td>\n",
       "    </tr>\n",
       "    <tr>\n",
       "      <th>python</th>\n",
       "      <td>2702</td>\n",
       "    </tr>\n",
       "    <tr>\n",
       "      <th>deep-learning</th>\n",
       "      <td>1763</td>\n",
       "    </tr>\n",
       "    <tr>\n",
       "      <th>neural-network</th>\n",
       "      <td>1553</td>\n",
       "    </tr>\n",
       "    <tr>\n",
       "      <th>keras</th>\n",
       "      <td>1346</td>\n",
       "    </tr>\n",
       "    <tr>\n",
       "      <th>classification</th>\n",
       "      <td>1056</td>\n",
       "    </tr>\n",
       "    <tr>\n",
       "      <th>tensorflow</th>\n",
       "      <td>921</td>\n",
       "    </tr>\n",
       "    <tr>\n",
       "      <th>scikit-learn</th>\n",
       "      <td>845</td>\n",
       "    </tr>\n",
       "  </tbody>\n",
       "</table>\n",
       "</div>"
      ],
      "text/plain": [
       "                  Count\n",
       "machine-learning   3941\n",
       "python             2702\n",
       "deep-learning      1763\n",
       "neural-network     1553\n",
       "keras              1346\n",
       "classification     1056\n",
       "tensorflow          921\n",
       "scikit-learn        845"
      ]
     },
     "execution_count": 17,
     "metadata": {},
     "output_type": "execute_result"
    }
   ],
   "source": [
    "tag_count.head(8)"
   ]
  },
  {
   "cell_type": "markdown",
   "metadata": {},
   "source": [
    "We're only interested in the most popular topics, so we'll plot the top 16 most used tags."
   ]
  },
  {
   "cell_type": "code",
   "execution_count": 18,
   "metadata": {},
   "outputs": [],
   "source": [
    "tags_most_used = tag_count.head(16)"
   ]
  },
  {
   "cell_type": "code",
   "execution_count": 19,
   "metadata": {},
   "outputs": [
    {
     "data": {
      "text/plain": [
       "<AxesSubplot:>"
      ]
     },
     "execution_count": 19,
     "metadata": {},
     "output_type": "execute_result"
    },
    {
     "data": {
      "image/png": "[encoded data removed]",
      "text/plain": [
       "<Figure size 864x576 with 1 Axes>"
      ]
     },
     "metadata": {
      "needs_background": "light"
     },
     "output_type": "display_data"
    }
   ],
   "source": [
    "tags_most_used.plot(kind='barh', figsize=(12,8))"
   ]
  },
  {
   "cell_type": "markdown",
   "metadata": {},
   "source": [
    "We can see from the plot that the most popular tag is `machine-learning`, followed by `python`, `deep-learning`, `neural-network`, and `keras`.\n",
    "\n",
    "### 2. Most Viewed Tags"
   ]
  },
  {
   "cell_type": "code",
   "execution_count": 20,
   "metadata": {},
   "outputs": [
    {
     "data": {
      "text/plain": [
       "(0, Id                                 43363\n",
       " CreationDate         2019-01-01 03:53:02\n",
       " Score                                  0\n",
       " ViewCount                             35\n",
       " Tags             [machine-learning, nlp]\n",
       " AnswerCount                            1\n",
       " FavoriteCount                          0\n",
       " Name: 0, dtype: object)"
      ]
     },
     "execution_count": 20,
     "metadata": {},
     "output_type": "execute_result"
    }
   ],
   "source": [
    "next(questions.iterrows())"
   ]
  },
  {
   "cell_type": "code",
   "execution_count": 21,
   "metadata": {},
   "outputs": [],
   "source": [
    "# count the number of times each tag was viewed\n",
    "tag_views = dict()\n",
    "\n",
    "for index, row in questions.iterrows():\n",
    "    for tag in row['Tags']:\n",
    "        if tag in tag_views:\n",
    "            tag_views[tag] += row['ViewCount']\n",
    "        else:\n",
    "            tag_views[tag] = row['ViewCount']\n",
    "            \n",
    "# convert tag views into a dataframe\n",
    "tag_views = pd.DataFrame.from_dict(tag_views, orient='index')"
   ]
  },
  {
   "cell_type": "markdown",
   "metadata": {},
   "source": [
    "Again, we only want the most popular tags, so we'll sort this dataframe by view count and choose the top 16 tags."
   ]
  },
  {
   "cell_type": "code",
   "execution_count": 22,
   "metadata": {},
   "outputs": [
    {
     "data": {
      "text/html": [
       "<div>\n",
       "<style scoped>\n",
       "    .dataframe tbody tr th:only-of-type {\n",
       "        vertical-align: middle;\n",
       "    }\n",
       "\n",
       "    .dataframe tbody tr th {\n",
       "        vertical-align: top;\n",
       "    }\n",
       "\n",
       "    .dataframe thead th {\n",
       "        text-align: right;\n",
       "    }\n",
       "</style>\n",
       "<table border=\"1\" class=\"dataframe\">\n",
       "  <thead>\n",
       "    <tr style=\"text-align: right;\">\n",
       "      <th></th>\n",
       "      <th>0</th>\n",
       "    </tr>\n",
       "  </thead>\n",
       "  <tbody>\n",
       "    <tr>\n",
       "      <th>machine-learning</th>\n",
       "      <td>956016</td>\n",
       "    </tr>\n",
       "    <tr>\n",
       "      <th>nlp</th>\n",
       "      <td>198663</td>\n",
       "    </tr>\n",
       "    <tr>\n",
       "      <th>deep-learning</th>\n",
       "      <td>540889</td>\n",
       "    </tr>\n",
       "    <tr>\n",
       "      <th>convnet</th>\n",
       "      <td>35135</td>\n",
       "    </tr>\n",
       "    <tr>\n",
       "      <th>image-classification</th>\n",
       "      <td>79848</td>\n",
       "    </tr>\n",
       "  </tbody>\n",
       "</table>\n",
       "</div>"
      ],
      "text/plain": [
       "                           0\n",
       "machine-learning      956016\n",
       "nlp                   198663\n",
       "deep-learning         540889\n",
       "convnet                35135\n",
       "image-classification   79848"
      ]
     },
     "execution_count": 22,
     "metadata": {},
     "output_type": "execute_result"
    }
   ],
   "source": [
    "tag_views.head()"
   ]
  },
  {
   "cell_type": "code",
   "execution_count": 23,
   "metadata": {},
   "outputs": [],
   "source": [
    "tag_views.rename(columns={0: 'View Count'}, inplace=True)\n",
    "tag_views.sort_values(by='View Count', ascending=False, inplace=True)\n",
    "tags_most_viewed = tag_views.head(16)"
   ]
  },
  {
   "cell_type": "code",
   "execution_count": 24,
   "metadata": {},
   "outputs": [
    {
     "data": {
      "text/plain": [
       "<AxesSubplot:>"
      ]
     },
     "execution_count": 24,
     "metadata": {},
     "output_type": "execute_result"
    },
    {
     "data": {
      "image/png": "[encoded data removed]",
      "text/plain": [
       "<Figure size 864x576 with 1 Axes>"
      ]
     },
     "metadata": {
      "needs_background": "light"
     },
     "output_type": "display_data"
    }
   ],
   "source": [
    "tags_most_viewed.plot(kind='barh', figsize=(12,8))"
   ]
  },
  {
   "cell_type": "markdown",
   "metadata": {},
   "source": [
    "We see that `python` is the most viewed tag, followed by `machine-learning`, `keras`, `pandas`, and `deep-learning`.\n",
    "\n",
    "## Comparing Most Used vs. Most Viewed\n",
    "By comparing the two plots, we can see that some of the tags in the top 16 most used are the same as the tags in the top 16 most viewed. Let's find out which tags are present in both tables."
   ]
  },
  {
   "cell_type": "code",
   "execution_count": 25,
   "metadata": {},
   "outputs": [],
   "source": [
    "# Which tags_most_viewed tags are in tags_most_used?\n",
    "views_in_used = pd.merge(tags_most_used, tags_most_viewed, how='left', left_index=True, right_index=True)"
   ]
  },
  {
   "cell_type": "code",
   "execution_count": 26,
   "metadata": {},
   "outputs": [
    {
     "data": {
      "text/html": [
       "<div>\n",
       "<style scoped>\n",
       "    .dataframe tbody tr th:only-of-type {\n",
       "        vertical-align: middle;\n",
       "    }\n",
       "\n",
       "    .dataframe tbody tr th {\n",
       "        vertical-align: top;\n",
       "    }\n",
       "\n",
       "    .dataframe thead th {\n",
       "        text-align: right;\n",
       "    }\n",
       "</style>\n",
       "<table border=\"1\" class=\"dataframe\">\n",
       "  <thead>\n",
       "    <tr style=\"text-align: right;\">\n",
       "      <th></th>\n",
       "      <th>Count</th>\n",
       "      <th>View Count</th>\n",
       "    </tr>\n",
       "  </thead>\n",
       "  <tbody>\n",
       "    <tr>\n",
       "      <th>machine-learning</th>\n",
       "      <td>3941</td>\n",
       "      <td>956016.0</td>\n",
       "    </tr>\n",
       "    <tr>\n",
       "      <th>python</th>\n",
       "      <td>2702</td>\n",
       "      <td>1422844.0</td>\n",
       "    </tr>\n",
       "    <tr>\n",
       "      <th>deep-learning</th>\n",
       "      <td>1763</td>\n",
       "      <td>540889.0</td>\n",
       "    </tr>\n",
       "    <tr>\n",
       "      <th>neural-network</th>\n",
       "      <td>1553</td>\n",
       "      <td>451824.0</td>\n",
       "    </tr>\n",
       "    <tr>\n",
       "      <th>keras</th>\n",
       "      <td>1346</td>\n",
       "      <td>648688.0</td>\n",
       "    </tr>\n",
       "    <tr>\n",
       "      <th>classification</th>\n",
       "      <td>1056</td>\n",
       "      <td>257703.0</td>\n",
       "    </tr>\n",
       "    <tr>\n",
       "      <th>tensorflow</th>\n",
       "      <td>921</td>\n",
       "      <td>325027.0</td>\n",
       "    </tr>\n",
       "    <tr>\n",
       "      <th>scikit-learn</th>\n",
       "      <td>845</td>\n",
       "      <td>339775.0</td>\n",
       "    </tr>\n",
       "    <tr>\n",
       "      <th>nlp</th>\n",
       "      <td>791</td>\n",
       "      <td>198663.0</td>\n",
       "    </tr>\n",
       "    <tr>\n",
       "      <th>cnn</th>\n",
       "      <td>688</td>\n",
       "      <td>182165.0</td>\n",
       "    </tr>\n",
       "    <tr>\n",
       "      <th>time-series</th>\n",
       "      <td>665</td>\n",
       "      <td>154415.0</td>\n",
       "    </tr>\n",
       "    <tr>\n",
       "      <th>regression</th>\n",
       "      <td>559</td>\n",
       "      <td>117291.0</td>\n",
       "    </tr>\n",
       "    <tr>\n",
       "      <th>lstm</th>\n",
       "      <td>549</td>\n",
       "      <td>171614.0</td>\n",
       "    </tr>\n",
       "    <tr>\n",
       "      <th>pandas</th>\n",
       "      <td>544</td>\n",
       "      <td>624617.0</td>\n",
       "    </tr>\n",
       "    <tr>\n",
       "      <th>dataset</th>\n",
       "      <td>538</td>\n",
       "      <td>NaN</td>\n",
       "    </tr>\n",
       "    <tr>\n",
       "      <th>clustering</th>\n",
       "      <td>444</td>\n",
       "      <td>NaN</td>\n",
       "    </tr>\n",
       "  </tbody>\n",
       "</table>\n",
       "</div>"
      ],
      "text/plain": [
       "                  Count  View Count\n",
       "machine-learning   3941    956016.0\n",
       "python             2702   1422844.0\n",
       "deep-learning      1763    540889.0\n",
       "neural-network     1553    451824.0\n",
       "keras              1346    648688.0\n",
       "classification     1056    257703.0\n",
       "tensorflow          921    325027.0\n",
       "scikit-learn        845    339775.0\n",
       "nlp                 791    198663.0\n",
       "cnn                 688    182165.0\n",
       "time-series         665    154415.0\n",
       "regression          559    117291.0\n",
       "lstm                549    171614.0\n",
       "pandas              544    624617.0\n",
       "dataset             538         NaN\n",
       "clustering          444         NaN"
      ]
     },
     "execution_count": 26,
     "metadata": {},
     "output_type": "execute_result"
    }
   ],
   "source": [
    "views_in_used"
   ]
  },
  {
   "cell_type": "code",
   "execution_count": 27,
   "metadata": {},
   "outputs": [],
   "source": [
    "# Which tags_most_used tags are in tags_most_viewed?\n",
    "used_in_views = pd.merge(tags_most_viewed, tags_most_used, how='left', left_index=True, right_index=True)"
   ]
  },
  {
   "cell_type": "code",
   "execution_count": 28,
   "metadata": {},
   "outputs": [
    {
     "data": {
      "text/html": [
       "<div>\n",
       "<style scoped>\n",
       "    .dataframe tbody tr th:only-of-type {\n",
       "        vertical-align: middle;\n",
       "    }\n",
       "\n",
       "    .dataframe tbody tr th {\n",
       "        vertical-align: top;\n",
       "    }\n",
       "\n",
       "    .dataframe thead th {\n",
       "        text-align: right;\n",
       "    }\n",
       "</style>\n",
       "<table border=\"1\" class=\"dataframe\">\n",
       "  <thead>\n",
       "    <tr style=\"text-align: right;\">\n",
       "      <th></th>\n",
       "      <th>View Count</th>\n",
       "      <th>Count</th>\n",
       "    </tr>\n",
       "  </thead>\n",
       "  <tbody>\n",
       "    <tr>\n",
       "      <th>python</th>\n",
       "      <td>1422844</td>\n",
       "      <td>2702.0</td>\n",
       "    </tr>\n",
       "    <tr>\n",
       "      <th>machine-learning</th>\n",
       "      <td>956016</td>\n",
       "      <td>3941.0</td>\n",
       "    </tr>\n",
       "    <tr>\n",
       "      <th>keras</th>\n",
       "      <td>648688</td>\n",
       "      <td>1346.0</td>\n",
       "    </tr>\n",
       "    <tr>\n",
       "      <th>pandas</th>\n",
       "      <td>624617</td>\n",
       "      <td>544.0</td>\n",
       "    </tr>\n",
       "    <tr>\n",
       "      <th>deep-learning</th>\n",
       "      <td>540889</td>\n",
       "      <td>1763.0</td>\n",
       "    </tr>\n",
       "    <tr>\n",
       "      <th>neural-network</th>\n",
       "      <td>451824</td>\n",
       "      <td>1553.0</td>\n",
       "    </tr>\n",
       "    <tr>\n",
       "      <th>scikit-learn</th>\n",
       "      <td>339775</td>\n",
       "      <td>845.0</td>\n",
       "    </tr>\n",
       "    <tr>\n",
       "      <th>tensorflow</th>\n",
       "      <td>325027</td>\n",
       "      <td>921.0</td>\n",
       "    </tr>\n",
       "    <tr>\n",
       "      <th>classification</th>\n",
       "      <td>257703</td>\n",
       "      <td>1056.0</td>\n",
       "    </tr>\n",
       "    <tr>\n",
       "      <th>dataframe</th>\n",
       "      <td>237170</td>\n",
       "      <td>NaN</td>\n",
       "    </tr>\n",
       "    <tr>\n",
       "      <th>nlp</th>\n",
       "      <td>198663</td>\n",
       "      <td>791.0</td>\n",
       "    </tr>\n",
       "    <tr>\n",
       "      <th>cnn</th>\n",
       "      <td>182165</td>\n",
       "      <td>688.0</td>\n",
       "    </tr>\n",
       "    <tr>\n",
       "      <th>lstm</th>\n",
       "      <td>171614</td>\n",
       "      <td>549.0</td>\n",
       "    </tr>\n",
       "    <tr>\n",
       "      <th>time-series</th>\n",
       "      <td>154415</td>\n",
       "      <td>665.0</td>\n",
       "    </tr>\n",
       "    <tr>\n",
       "      <th>numpy</th>\n",
       "      <td>132259</td>\n",
       "      <td>NaN</td>\n",
       "    </tr>\n",
       "    <tr>\n",
       "      <th>regression</th>\n",
       "      <td>117291</td>\n",
       "      <td>559.0</td>\n",
       "    </tr>\n",
       "  </tbody>\n",
       "</table>\n",
       "</div>"
      ],
      "text/plain": [
       "                  View Count   Count\n",
       "python               1422844  2702.0\n",
       "machine-learning      956016  3941.0\n",
       "keras                 648688  1346.0\n",
       "pandas                624617   544.0\n",
       "deep-learning         540889  1763.0\n",
       "neural-network        451824  1553.0\n",
       "scikit-learn          339775   845.0\n",
       "tensorflow            325027   921.0\n",
       "classification        257703  1056.0\n",
       "dataframe             237170     NaN\n",
       "nlp                   198663   791.0\n",
       "cnn                   182165   688.0\n",
       "lstm                  171614   549.0\n",
       "time-series           154415   665.0\n",
       "numpy                 132259     NaN\n",
       "regression            117291   559.0"
      ]
     },
     "execution_count": 28,
     "metadata": {},
     "output_type": "execute_result"
    }
   ],
   "source": [
    "used_in_views"
   ]
  },
  {
   "cell_type": "markdown",
   "metadata": {},
   "source": [
    "Tags present in `tags_most_used` but not in `tags_most_viewed`:\n",
    "* `dataset`\n",
    "* `clustering`\n",
    "\n",
    "Tags present in `tags_most_viewed` but not in `tags_most_used`:\n",
    "* `dataframe`\n",
    "* `numpy`\n",
    "\n",
    "## Relationships Between Tags\n",
    "For the article writers to get the most \"bang for their buck\", it would be best if they could write an article about a tag that is in both \"most viewed\" and \"most used\". An even better deal would be if they could write one article about multiple related tags. For example, `python` is related to `pandas` because pandas is a Python library.\n",
    "\n",
    "Looking back at the two tables, we can see that most of the top 10 most used tags are shared with the top 10 most viewed tags. Here's what they have in common:\n",
    "* `python`\n",
    "* `machine-learning`\n",
    "* `keras`\n",
    "* `deep-learning`\n",
    "* `neural-network`\n",
    "* `scikit-learn`\n",
    "* `tensorflow`\n",
    "* `classification`\n",
    "\n",
    "To find out if there are any strong relationships between these tags, we'll have to learn more about each tag. The [tags page](https://datascience.stackexchange.com/tags) on DSSE has descriptions of each tag.\n",
    "\n",
    "* `python`: Use for data science questions related to the programming language Python. Not intended for general coding questions (-> stackoverflow).\n",
    "* `machine-learning`: Methods and principles of building \"computer systems that automatically improve with experience.\"\n",
    "* `keras`: A minimalist, highly modular neural network library written in Python.\n",
    "* `deep-learning`: A new area of Machine Learning research concerned with the technologies used for learning hierarchical representations of data, mainly done with deep neural networks (i.e. networks with two or more hidden layers), but also with some sort of Probabilistic Graphical Models.\n",
    "* `neural-network`: Artificial neural networks (ANN), are composed of 'neurons' - programming constructs that mimic the properties of biological neurons. A set of weighted connections between the neurons allows information to propagate through the network to solve artificial intelligence problems without the network designer having had a model of a real system.\n",
    "* `scikit-learn`: Scikit-learn is a Python module comprising of simple and efficient tool for machine learning, data mining and data analysis. It is built on NumPy, SciPy, and matplotlib.\n",
    "* `tensorflow`: TensorFlow is an open source library for machine learning and machine intelligence. TensorFlow uses data flow graphs with tensors flowing along edges.\n",
    "* `classification`: An instance of supervised learning that identifies the category or categories which a new instance of dataset belongs.\n",
    "\n",
    "Based off of these definitions we were able to find that the following tags are related:\n",
    "* `machine-learning` and `deep-learning`\n",
    "* `machine-learning` and `scikit-learn`\n",
    "* `machine-learning` and `tensorflow`\n",
    "* `deep-learning` and `neural-network`\n",
    "* `neural-network` and `keras`\n",
    "* `python` and `keras`\n",
    "* `python` and `scikit-learn`\n",
    "* `python` and `classification`\n",
    "\n",
    "To get a more solid view of the relationships, we can count how many times each pair appears together in the Tags column. There are a lot of unique tags, so we'll simplify the process by only considering the tags that are present in _both_ the top 16 most used and the top 16 most viewed.\n",
    "\n",
    "First, we'll create a list of all tags."
   ]
  },
  {
   "cell_type": "code",
   "execution_count": 29,
   "metadata": {},
   "outputs": [],
   "source": [
    "all_tags = list(tag_count.index)"
   ]
  },
  {
   "cell_type": "markdown",
   "metadata": {},
   "source": [
    "Next, we'll create a list of tags satisfying the conditions above. We'll use this list later to filter our `relationships` dataframe."
   ]
  },
  {
   "cell_type": "code",
   "execution_count": 30,
   "metadata": {},
   "outputs": [],
   "source": [
    "# find all tags that are in both Top 16 most used and most viewed\n",
    "most_used_filtered = tags_most_used.drop(labels=['dataset', 'clustering'])\n",
    "most_viewed_filtered = tags_most_viewed.drop(labels=['dataframe', 'numpy'])\n",
    "\n",
    "# can use either one of the above to make the list of tags\n",
    "top_tags = list(most_used_filtered.index)"
   ]
  },
  {
   "cell_type": "markdown",
   "metadata": {},
   "source": [
    "Next, we'll create a dataframe where each row and each column will represent a tag."
   ]
  },
  {
   "cell_type": "code",
   "execution_count": 31,
   "metadata": {},
   "outputs": [],
   "source": [
    "relationships = pd.DataFrame(index=all_tags, columns=all_tags)"
   ]
  },
  {
   "cell_type": "markdown",
   "metadata": {},
   "source": [
    "Next, we'll fill the dataframe with zeroes. Then, for each list in `questions['Tags']` we'll increment the intersecting tags by one. In the end, the dataframe will tell us how many times two tags were used together."
   ]
  },
  {
   "cell_type": "code",
   "execution_count": 32,
   "metadata": {},
   "outputs": [],
   "source": [
    "relationships.fillna(0, inplace=True)\n",
    "\n",
    "for tags in questions['Tags']:\n",
    "    relationships.loc[tags, tags] += 1"
   ]
  },
  {
   "cell_type": "markdown",
   "metadata": {},
   "source": [
    "We'll filter this out since the dataframe is large and we're only interested in the most used/viewed tags. After that, we'll view the relationships using a heatmap."
   ]
  },
  {
   "cell_type": "code",
   "execution_count": 33,
   "metadata": {},
   "outputs": [],
   "source": [
    "top_relationships = relationships.loc[top_tags, top_tags]"
   ]
  },
  {
   "cell_type": "markdown",
   "metadata": {},
   "source": [
    "The relationship between two identical tags will skew the heatmap and create an inaccurate visualization. To fix this, we'll replace those values with `NaN`."
   ]
  },
  {
   "cell_type": "code",
   "execution_count": 34,
   "metadata": {},
   "outputs": [],
   "source": [
    "for i in range(top_relationships.shape[0]):\n",
    "    top_relationships.iloc[i, i] = np.NaN"
   ]
  },
  {
   "cell_type": "code",
   "execution_count": 35,
   "metadata": {
    "scrolled": false
   },
   "outputs": [
    {
     "data": {
      "text/plain": [
       "<AxesSubplot:>"
      ]
     },
     "execution_count": 35,
     "metadata": {},
     "output_type": "execute_result"
    },
    {
     "data": {
      "image/png": "[encoded data removed]",
      "text/plain": [
       "<Figure size 864x576 with 2 Axes>"
      ]
     },
     "metadata": {
      "needs_background": "light"
     },
     "output_type": "display_data"
    }
   ],
   "source": [
    "plt.figure(figsize=(12,8))\n",
    "sns.heatmap(top_relationships, cmap='BuGn', annot=False)"
   ]
  },
  {
   "cell_type": "markdown",
   "metadata": {},
   "source": [
    "From the heatmap above, we can see that `python` and `machine-learning` have the strongest relationship. `machine-learning` also has strong relationships with `deep-learning` and `neural-network`.\n",
    "\n",
    "## Is Machine Learning Just Another Trend?\n",
    "Before we make any official recommendations, we should find additional proof to confirm our findings. Machine-learning looks like it is the main tag amongst the other most popular tags. So, we'll investigate the questions posts from DSSE again to find out if the popularity of `machine-learning` has a strong follower base, or if it was just popular due to hype and will decrease in popularity quickly.\n",
    "\n",
    "The following query obtains all of the questions on DSSE from May, 2014 to present:\n",
    "    \n",
    "    SELECT Id, CreationDate, Tags\n",
    "    FROM Posts\n",
    "    WHERE PostTypeId = 1\n",
    "    ORDER BY CreationDate ASC;\n",
    "    \n",
    "The query results were saved into the file, `DSSE_all_questions.csv`. We'll investigate the questions to track interest in the machine learning."
   ]
  },
  {
   "cell_type": "code",
   "execution_count": 36,
   "metadata": {},
   "outputs": [],
   "source": [
    "all_questions = pd.read_csv('DSSE_all_questions.csv', parse_dates=['CreationDate'])"
   ]
  },
  {
   "cell_type": "code",
   "execution_count": 37,
   "metadata": {},
   "outputs": [],
   "source": [
    "# re-format Tags items into lists\n",
    "all_questions['Tags'] = (all_questions['Tags']\n",
    "                            .str.replace('^<|>$', '')\n",
    "                            .str.split('><'))"
   ]
  },
  {
   "cell_type": "code",
   "execution_count": 38,
   "metadata": {},
   "outputs": [
    {
     "data": {
      "text/html": [
       "<div>\n",
       "<style scoped>\n",
       "    .dataframe tbody tr th:only-of-type {\n",
       "        vertical-align: middle;\n",
       "    }\n",
       "\n",
       "    .dataframe tbody tr th {\n",
       "        vertical-align: top;\n",
       "    }\n",
       "\n",
       "    .dataframe thead th {\n",
       "        text-align: right;\n",
       "    }\n",
       "</style>\n",
       "<table border=\"1\" class=\"dataframe\">\n",
       "  <thead>\n",
       "    <tr style=\"text-align: right;\">\n",
       "      <th></th>\n",
       "      <th>Id</th>\n",
       "      <th>CreationDate</th>\n",
       "      <th>Tags</th>\n",
       "    </tr>\n",
       "  </thead>\n",
       "  <tbody>\n",
       "    <tr>\n",
       "      <th>0</th>\n",
       "      <td>5</td>\n",
       "      <td>2014-05-13 23:58:30</td>\n",
       "      <td>[machine-learning]</td>\n",
       "    </tr>\n",
       "    <tr>\n",
       "      <th>1</th>\n",
       "      <td>7</td>\n",
       "      <td>2014-05-14 00:11:06</td>\n",
       "      <td>[education, open-source]</td>\n",
       "    </tr>\n",
       "    <tr>\n",
       "      <th>2</th>\n",
       "      <td>14</td>\n",
       "      <td>2014-05-14 01:25:59</td>\n",
       "      <td>[data-mining, definitions]</td>\n",
       "    </tr>\n",
       "    <tr>\n",
       "      <th>3</th>\n",
       "      <td>15</td>\n",
       "      <td>2014-05-14 01:41:23</td>\n",
       "      <td>[databases]</td>\n",
       "    </tr>\n",
       "    <tr>\n",
       "      <th>4</th>\n",
       "      <td>16</td>\n",
       "      <td>2014-05-14 01:57:56</td>\n",
       "      <td>[machine-learning, bigdata, libsvm]</td>\n",
       "    </tr>\n",
       "  </tbody>\n",
       "</table>\n",
       "</div>"
      ],
      "text/plain": [
       "   Id        CreationDate                                 Tags\n",
       "0   5 2014-05-13 23:58:30                   [machine-learning]\n",
       "1   7 2014-05-14 00:11:06             [education, open-source]\n",
       "2  14 2014-05-14 01:25:59           [data-mining, definitions]\n",
       "3  15 2014-05-14 01:41:23                          [databases]\n",
       "4  16 2014-05-14 01:57:56  [machine-learning, bigdata, libsvm]"
      ]
     },
     "execution_count": 38,
     "metadata": {},
     "output_type": "execute_result"
    }
   ],
   "source": [
    "all_questions.head()"
   ]
  },
  {
   "cell_type": "markdown",
   "metadata": {},
   "source": [
    "Now, we'll find all questions that are about machine learning. Based off of the information from the heatmap and the [tag definitions](https://datascience.stackexchange.com/tags), we'll define a machine learning question as a question post that has the tags `machine-learning`, `classification`, `cnn`, `regression`, `scikit-learn`, and `tensorflow`. \n",
    "\n",
    "Even though `machine-learning` is strongly related to `deep-learning` and `neural-network` (according to the heatmap), we won't include those tags in our search to avoid including questions about deep learning and neural network.\n",
    "\n",
    "Using our definition for a machine learning question, we'll create a new column in `all_questions`, called `MachineLearning`, that will contain `1` for rows with tags in our machine learning tag list and `0` otherwise."
   ]
  },
  {
   "cell_type": "code",
   "execution_count": 39,
   "metadata": {},
   "outputs": [],
   "source": [
    "# create list of machine learning tags\n",
    "ml_tags = ['machine-learning',\n",
    "           'classification',\n",
    "           'cnn',\n",
    "           'regression',\n",
    "           'scikit-learn',\n",
    "           'tensorflow']"
   ]
  },
  {
   "cell_type": "code",
   "execution_count": 40,
   "metadata": {},
   "outputs": [],
   "source": [
    "# create function that finds machine learning questions\n",
    "def find_machine_learning(tags):\n",
    "    for tag in tags:\n",
    "        if tag in ml_tags:\n",
    "            return 1\n",
    "        else:\n",
    "            return 0\n",
    "        \n",
    "# apply find_machine_learning to all_questions dataframe\n",
    "all_questions['MachineLearning'] = all_questions['Tags'].apply(find_machine_learning)"
   ]
  },
  {
   "cell_type": "code",
   "execution_count": 41,
   "metadata": {},
   "outputs": [
    {
     "data": {
      "text/html": [
       "<div>\n",
       "<style scoped>\n",
       "    .dataframe tbody tr th:only-of-type {\n",
       "        vertical-align: middle;\n",
       "    }\n",
       "\n",
       "    .dataframe tbody tr th {\n",
       "        vertical-align: top;\n",
       "    }\n",
       "\n",
       "    .dataframe thead th {\n",
       "        text-align: right;\n",
       "    }\n",
       "</style>\n",
       "<table border=\"1\" class=\"dataframe\">\n",
       "  <thead>\n",
       "    <tr style=\"text-align: right;\">\n",
       "      <th></th>\n",
       "      <th>Id</th>\n",
       "      <th>CreationDate</th>\n",
       "      <th>Tags</th>\n",
       "      <th>MachineLearning</th>\n",
       "    </tr>\n",
       "  </thead>\n",
       "  <tbody>\n",
       "    <tr>\n",
       "      <th>0</th>\n",
       "      <td>5</td>\n",
       "      <td>2014-05-13 23:58:30</td>\n",
       "      <td>[machine-learning]</td>\n",
       "      <td>1</td>\n",
       "    </tr>\n",
       "    <tr>\n",
       "      <th>1</th>\n",
       "      <td>7</td>\n",
       "      <td>2014-05-14 00:11:06</td>\n",
       "      <td>[education, open-source]</td>\n",
       "      <td>0</td>\n",
       "    </tr>\n",
       "    <tr>\n",
       "      <th>2</th>\n",
       "      <td>14</td>\n",
       "      <td>2014-05-14 01:25:59</td>\n",
       "      <td>[data-mining, definitions]</td>\n",
       "      <td>0</td>\n",
       "    </tr>\n",
       "    <tr>\n",
       "      <th>3</th>\n",
       "      <td>15</td>\n",
       "      <td>2014-05-14 01:41:23</td>\n",
       "      <td>[databases]</td>\n",
       "      <td>0</td>\n",
       "    </tr>\n",
       "    <tr>\n",
       "      <th>4</th>\n",
       "      <td>16</td>\n",
       "      <td>2014-05-14 01:57:56</td>\n",
       "      <td>[machine-learning, bigdata, libsvm]</td>\n",
       "      <td>1</td>\n",
       "    </tr>\n",
       "    <tr>\n",
       "      <th>...</th>\n",
       "      <td>...</td>\n",
       "      <td>...</td>\n",
       "      <td>...</td>\n",
       "      <td>...</td>\n",
       "    </tr>\n",
       "    <tr>\n",
       "      <th>25599</th>\n",
       "      <td>80666</td>\n",
       "      <td>2020-08-22 18:40:09</td>\n",
       "      <td>[keras, tensorflow]</td>\n",
       "      <td>0</td>\n",
       "    </tr>\n",
       "    <tr>\n",
       "      <th>25600</th>\n",
       "      <td>80667</td>\n",
       "      <td>2020-08-22 20:16:12</td>\n",
       "      <td>[neural-network, deep-learning, time-series, c...</td>\n",
       "      <td>0</td>\n",
       "    </tr>\n",
       "    <tr>\n",
       "      <th>25601</th>\n",
       "      <td>80668</td>\n",
       "      <td>2020-08-22 20:38:55</td>\n",
       "      <td>[machine-learning, regression, clustering, dat...</td>\n",
       "      <td>1</td>\n",
       "    </tr>\n",
       "    <tr>\n",
       "      <th>25602</th>\n",
       "      <td>80669</td>\n",
       "      <td>2020-08-22 20:51:24</td>\n",
       "      <td>[keras, variance, gru]</td>\n",
       "      <td>0</td>\n",
       "    </tr>\n",
       "    <tr>\n",
       "      <th>25603</th>\n",
       "      <td>80674</td>\n",
       "      <td>2020-08-23 02:21:06</td>\n",
       "      <td>[machine-learning, python, arima, statsmodels]</td>\n",
       "      <td>1</td>\n",
       "    </tr>\n",
       "  </tbody>\n",
       "</table>\n",
       "<p>25604 rows × 4 columns</p>\n",
       "</div>"
      ],
      "text/plain": [
       "          Id        CreationDate  \\\n",
       "0          5 2014-05-13 23:58:30   \n",
       "1          7 2014-05-14 00:11:06   \n",
       "2         14 2014-05-14 01:25:59   \n",
       "3         15 2014-05-14 01:41:23   \n",
       "4         16 2014-05-14 01:57:56   \n",
       "...      ...                 ...   \n",
       "25599  80666 2020-08-22 18:40:09   \n",
       "25600  80667 2020-08-22 20:16:12   \n",
       "25601  80668 2020-08-22 20:38:55   \n",
       "25602  80669 2020-08-22 20:51:24   \n",
       "25603  80674 2020-08-23 02:21:06   \n",
       "\n",
       "                                                    Tags  MachineLearning  \n",
       "0                                     [machine-learning]                1  \n",
       "1                               [education, open-source]                0  \n",
       "2                             [data-mining, definitions]                0  \n",
       "3                                            [databases]                0  \n",
       "4                    [machine-learning, bigdata, libsvm]                1  \n",
       "...                                                  ...              ...  \n",
       "25599                                [keras, tensorflow]                0  \n",
       "25600  [neural-network, deep-learning, time-series, c...                0  \n",
       "25601  [machine-learning, regression, clustering, dat...                1  \n",
       "25602                             [keras, variance, gru]                0  \n",
       "25603     [machine-learning, python, arima, statsmodels]                1  \n",
       "\n",
       "[25604 rows x 4 columns]"
      ]
     },
     "execution_count": 41,
     "metadata": {},
     "output_type": "execute_result"
    }
   ],
   "source": [
    "all_questions"
   ]
  },
  {
   "cell_type": "markdown",
   "metadata": {},
   "source": [
    "Now that we know which questions are about machine learning (to a degree), we can count and track the activity of machine learning searches. The realm of data science isn't active enough to track on a daily, weekly, or even monthly basis. So, we'll track it quarterly."
   ]
  },
  {
   "cell_type": "code",
   "execution_count": 42,
   "metadata": {},
   "outputs": [],
   "source": [
    "quarters = (all_questions['CreationDate'].dt.year <= 2020)\n",
    "\n",
    "all_questions = all_questions[quarters]"
   ]
  },
  {
   "cell_type": "markdown",
   "metadata": {},
   "source": [
    "Now, we'll create a new column in `all_questions`, called `Quarter`, that contains which quarter of the year each question was posted."
   ]
  },
  {
   "cell_type": "code",
   "execution_count": 43,
   "metadata": {},
   "outputs": [],
   "source": [
    "# create a function that assigns a date to a quarter\n",
    "def get_quarter(date):\n",
    "    year = str(date.year)\n",
    "    month = date.month\n",
    "    quarter = str(math.ceil(month / 3))\n",
    "    return '{}Q{}'.format(year, quarter)\n",
    "\n",
    "all_questions['Quarter'] = all_questions['CreationDate'].apply(get_quarter)"
   ]
  },
  {
   "cell_type": "markdown",
   "metadata": {},
   "source": [
    "Next, we'll group the dataframe by quarters, count the number of machine learning questions posted per quarter, and count the total number of questions per quarter."
   ]
  },
  {
   "cell_type": "code",
   "execution_count": 44,
   "metadata": {},
   "outputs": [],
   "source": [
    "# creates a new dataframe containing the sum of machine learning questions\n",
    "# and the total number of questions, grouped by the quarters in all_questions\n",
    "quarterly = all_questions.groupby('Quarter').agg({'MachineLearning': ['sum', 'size']})\n",
    "\n",
    "# renames the columns\n",
    "quarterly.columns = ['MachineLearningQuestions', 'TotalQuestions']\n",
    "\n",
    "# find ratio of machine learning questions vs all questions\n",
    "mlq = quarterly['MachineLearningQuestions']\n",
    "tq = quarterly['TotalQuestions']\n",
    "quarterly['MachineLearningPercentage'] = mlq / tq\n",
    "\n",
    "# reset index to make visualization easier\n",
    "quarterly.reset_index(inplace=True)"
   ]
  },
  {
   "cell_type": "markdown",
   "metadata": {},
   "source": [
    "Since we only have data up until August, 2020, the `2020Q3` will be incomplete and inaccurate. So, we'll remove that row."
   ]
  },
  {
   "cell_type": "code",
   "execution_count": 45,
   "metadata": {},
   "outputs": [
    {
     "data": {
      "text/html": [
       "<div>\n",
       "<style scoped>\n",
       "    .dataframe tbody tr th:only-of-type {\n",
       "        vertical-align: middle;\n",
       "    }\n",
       "\n",
       "    .dataframe tbody tr th {\n",
       "        vertical-align: top;\n",
       "    }\n",
       "\n",
       "    .dataframe thead th {\n",
       "        text-align: right;\n",
       "    }\n",
       "</style>\n",
       "<table border=\"1\" class=\"dataframe\">\n",
       "  <thead>\n",
       "    <tr style=\"text-align: right;\">\n",
       "      <th></th>\n",
       "      <th>Quarter</th>\n",
       "      <th>MachineLearningQuestions</th>\n",
       "      <th>TotalQuestions</th>\n",
       "      <th>MachineLearningPercentage</th>\n",
       "    </tr>\n",
       "  </thead>\n",
       "  <tbody>\n",
       "    <tr>\n",
       "      <th>23</th>\n",
       "      <td>2020Q1</td>\n",
       "      <td>840</td>\n",
       "      <td>2113</td>\n",
       "      <td>0.397539</td>\n",
       "    </tr>\n",
       "    <tr>\n",
       "      <th>24</th>\n",
       "      <td>2020Q2</td>\n",
       "      <td>870</td>\n",
       "      <td>2407</td>\n",
       "      <td>0.361446</td>\n",
       "    </tr>\n",
       "    <tr>\n",
       "      <th>25</th>\n",
       "      <td>2020Q3</td>\n",
       "      <td>453</td>\n",
       "      <td>1220</td>\n",
       "      <td>0.371311</td>\n",
       "    </tr>\n",
       "  </tbody>\n",
       "</table>\n",
       "</div>"
      ],
      "text/plain": [
       "   Quarter  MachineLearningQuestions  TotalQuestions  \\\n",
       "23  2020Q1                       840            2113   \n",
       "24  2020Q2                       870            2407   \n",
       "25  2020Q3                       453            1220   \n",
       "\n",
       "    MachineLearningPercentage  \n",
       "23                   0.397539  \n",
       "24                   0.361446  \n",
       "25                   0.371311  "
      ]
     },
     "execution_count": 45,
     "metadata": {},
     "output_type": "execute_result"
    }
   ],
   "source": [
    "quarterly.tail(3)"
   ]
  },
  {
   "cell_type": "code",
   "execution_count": 46,
   "metadata": {},
   "outputs": [],
   "source": [
    "quarterly.drop(labels=25, inplace=True)"
   ]
  },
  {
   "cell_type": "markdown",
   "metadata": {},
   "source": [
    "Finally, we'll plot the results and see what we find."
   ]
  },
  {
   "cell_type": "code",
   "execution_count": 71,
   "metadata": {},
   "outputs": [
    {
     "name": "stderr",
     "output_type": "stream",
     "text": [
      "/Library/Frameworks/Python.framework/Versions/3.7/lib/python3.7/site-packages/pandas/plotting/_matplotlib/core.py:1192: UserWarning: FixedFormatter should only be used together with FixedLocator\n",
      "  ax.set_xticklabels(xticklabels)\n"
     ]
    },
    {
     "data": {
      "text/plain": [
       "<matplotlib.legend.Legend at 0x12e1d6f28>"
      ]
     },
     "execution_count": 71,
     "metadata": {},
     "output_type": "execute_result"
    },
    {
     "data": {
      "image/png": "[encoded data removed]",
      "text/plain": [
       "<Figure size 1728x1152 with 2 Axes>"
      ]
     },
     "metadata": {
      "needs_background": "light"
     },
     "output_type": "display_data"
    }
   ],
   "source": [
    "light_gray = (220/255 ,220/255 ,220/255)\n",
    "red = (220/255, 20/255, 60/255)\n",
    "\n",
    "ax1 = quarterly.plot(x='Quarter', y='MachineLearningQuestions',\n",
    "                     kind='line', marker='o', color=red,\n",
    "                     linewidth=8, figsize=(24,16))\n",
    "\n",
    "ax2 = quarterly.plot(x='Quarter', y='TotalQuestions',\n",
    "                     kind='bar', color=light_gray, ax=ax1, secondary_y=False,\n",
    "                     width=0.9, alpha=0.7, rot=45)\n",
    "\n",
    "ax3 = quarterly.plot(x='Quarter', y='MachineLearningPercentage',\n",
    "                     kind='line', ax=ax1, marker='o',\n",
    "                     secondary_y=True)\n",
    "\n",
    "ax1.legend(loc='upper left', prop={'size': 14})\n",
    "ax3.legend(loc='best', prop={'size': 14})"
   ]
  },
  {
   "cell_type": "markdown",
   "metadata": {},
   "source": [
    "It seems that the number of machine learning questions being asked is increasing. However, the blue line indicates that in comparison with all other questions, machine learning is showing a downard trend in popularity. For this reason, I would not suggest creating machine learning content.\n",
    "\n",
    "## Deep Learning?\n",
    "\n",
    "Deep learning is another popular topic in the data science community, so let's see if it's worth creating deep learning content. We'll perform the same procedure as above to find out."
   ]
  },
  {
   "cell_type": "code",
   "execution_count": 48,
   "metadata": {},
   "outputs": [],
   "source": [
    "all_questions2 = pd.read_csv('DSSE_all_questions.csv', parse_dates=['CreationDate'])\n",
    "\n",
    "all_questions2['Tags'] = (all_questions2['Tags']\n",
    "                             .str.replace('^<|>$', '')\n",
    "                             .str.split('><'))"
   ]
  },
  {
   "cell_type": "code",
   "execution_count": 56,
   "metadata": {},
   "outputs": [],
   "source": [
    "# list of deep learning tags\n",
    "dl_tags = ['deep-learning',\n",
    "           'neural-network',\n",
    "           'keras',\n",
    "           'tensorflow',\n",
    "           'scikit-learn',\n",
    "           'cnn',\n",
    "           'lstm']\n",
    "\n",
    "def find_deep_learning(tags):\n",
    "    for tag in tags:\n",
    "        if tag in dl_tags:\n",
    "            return 1\n",
    "        else:\n",
    "            return 0\n",
    "        \n",
    "all_questions2['DeepLearning'] = all_questions2['Tags'].apply(find_deep_learning)\n",
    "all_questions2['Quarter'] = all_questions2['CreationDate'].apply(get_quarter)"
   ]
  },
  {
   "cell_type": "code",
   "execution_count": 57,
   "metadata": {},
   "outputs": [
    {
     "data": {
      "text/html": [
       "<div>\n",
       "<style scoped>\n",
       "    .dataframe tbody tr th:only-of-type {\n",
       "        vertical-align: middle;\n",
       "    }\n",
       "\n",
       "    .dataframe tbody tr th {\n",
       "        vertical-align: top;\n",
       "    }\n",
       "\n",
       "    .dataframe thead th {\n",
       "        text-align: right;\n",
       "    }\n",
       "</style>\n",
       "<table border=\"1\" class=\"dataframe\">\n",
       "  <thead>\n",
       "    <tr style=\"text-align: right;\">\n",
       "      <th></th>\n",
       "      <th>Id</th>\n",
       "      <th>CreationDate</th>\n",
       "      <th>Tags</th>\n",
       "      <th>DeepLearning</th>\n",
       "      <th>Quarter</th>\n",
       "    </tr>\n",
       "  </thead>\n",
       "  <tbody>\n",
       "    <tr>\n",
       "      <th>0</th>\n",
       "      <td>5</td>\n",
       "      <td>2014-05-13 23:58:30</td>\n",
       "      <td>[machine-learning]</td>\n",
       "      <td>0</td>\n",
       "      <td>2014Q2</td>\n",
       "    </tr>\n",
       "    <tr>\n",
       "      <th>1</th>\n",
       "      <td>7</td>\n",
       "      <td>2014-05-14 00:11:06</td>\n",
       "      <td>[education, open-source]</td>\n",
       "      <td>0</td>\n",
       "      <td>2014Q2</td>\n",
       "    </tr>\n",
       "    <tr>\n",
       "      <th>2</th>\n",
       "      <td>14</td>\n",
       "      <td>2014-05-14 01:25:59</td>\n",
       "      <td>[data-mining, definitions]</td>\n",
       "      <td>0</td>\n",
       "      <td>2014Q2</td>\n",
       "    </tr>\n",
       "    <tr>\n",
       "      <th>3</th>\n",
       "      <td>15</td>\n",
       "      <td>2014-05-14 01:41:23</td>\n",
       "      <td>[databases]</td>\n",
       "      <td>0</td>\n",
       "      <td>2014Q2</td>\n",
       "    </tr>\n",
       "    <tr>\n",
       "      <th>4</th>\n",
       "      <td>16</td>\n",
       "      <td>2014-05-14 01:57:56</td>\n",
       "      <td>[machine-learning, bigdata, libsvm]</td>\n",
       "      <td>0</td>\n",
       "      <td>2014Q2</td>\n",
       "    </tr>\n",
       "  </tbody>\n",
       "</table>\n",
       "</div>"
      ],
      "text/plain": [
       "   Id        CreationDate                                 Tags  DeepLearning  \\\n",
       "0   5 2014-05-13 23:58:30                   [machine-learning]             0   \n",
       "1   7 2014-05-14 00:11:06             [education, open-source]             0   \n",
       "2  14 2014-05-14 01:25:59           [data-mining, definitions]             0   \n",
       "3  15 2014-05-14 01:41:23                          [databases]             0   \n",
       "4  16 2014-05-14 01:57:56  [machine-learning, bigdata, libsvm]             0   \n",
       "\n",
       "  Quarter  \n",
       "0  2014Q2  \n",
       "1  2014Q2  \n",
       "2  2014Q2  \n",
       "3  2014Q2  \n",
       "4  2014Q2  "
      ]
     },
     "execution_count": 57,
     "metadata": {},
     "output_type": "execute_result"
    }
   ],
   "source": [
    "all_questions2.head()"
   ]
  },
  {
   "cell_type": "code",
   "execution_count": 64,
   "metadata": {},
   "outputs": [],
   "source": [
    "dl_quarterly = all_questions2.groupby('Quarter').agg({'DeepLearning': ['sum', 'size']})\n",
    "\n",
    "# renames the columns\n",
    "dl_quarterly.columns = ['DeepLearningQuestions', 'TotalQuestions']\n",
    "\n",
    "# find ratio of deep learning questions vs all questions\n",
    "dlq = dl_quarterly['DeepLearningQuestions']\n",
    "tq = dl_quarterly['TotalQuestions']\n",
    "dl_quarterly['DeepLearningPercentage'] = dlq / tq\n",
    "\n",
    "# reset index to make visualization easier\n",
    "dl_quarterly.reset_index(inplace=True)\n",
    "dl_quarterly.drop(labels=25, inplace=True)"
   ]
  },
  {
   "cell_type": "code",
   "execution_count": 69,
   "metadata": {},
   "outputs": [
    {
     "name": "stderr",
     "output_type": "stream",
     "text": [
      "/Library/Frameworks/Python.framework/Versions/3.7/lib/python3.7/site-packages/pandas/plotting/_matplotlib/core.py:1192: UserWarning: FixedFormatter should only be used together with FixedLocator\n",
      "  ax.set_xticklabels(xticklabels)\n"
     ]
    },
    {
     "data": {
      "text/plain": [
       "<matplotlib.legend.Legend at 0x12eb29fd0>"
      ]
     },
     "execution_count": 69,
     "metadata": {},
     "output_type": "execute_result"
    },
    {
     "data": {
      "image/png": "[encoded data removed]",
      "text/plain": [
       "<Figure size 1728x1152 with 2 Axes>"
      ]
     },
     "metadata": {
      "needs_background": "light"
     },
     "output_type": "display_data"
    }
   ],
   "source": [
    "light_gray = (220/255 ,220/255 ,220/255)\n",
    "red = (220/255, 20/255, 60/255)\n",
    "\n",
    "ax1 = dl_quarterly.plot(x='Quarter', y='DeepLearningQuestions',\n",
    "                     kind='line', marker='o', color=red,\n",
    "                     linewidth=8, figsize=(24,16))\n",
    "\n",
    "ax2 = dl_quarterly.plot(x='Quarter', y='TotalQuestions',\n",
    "                     kind='bar', color=light_gray, ax=ax1, secondary_y=False,\n",
    "                     width=0.9, alpha=0.7, rot=45)\n",
    "\n",
    "ax3 = dl_quarterly.plot(x='Quarter', y='DeepLearningPercentage',\n",
    "                     kind='line', ax=ax1, marker='o',\n",
    "                     secondary_y=True)\n",
    "\n",
    "ax1.legend(loc='upper left', prop={'size': 14})\n",
    "ax3.legend(loc='best', prop={'size': 14})"
   ]
  },
  {
   "cell_type": "markdown",
   "metadata": {},
   "source": [
    "Although the number of deep learning questions posted quarterly is less than that of machine learning, the blue line indicates that deep learning is experiencing an upward trend in popularity. So, we recommend creating deep learning content."
   ]
  }
 ],
 "metadata": {
  "kernelspec": {
   "display_name": "Python 3",
   "language": "python",
   "name": "python3"
  },
  "language_info": {
   "codemirror_mode": {
    "name": "ipython",
    "version": 3
   },
   "file_extension": ".py",
   "mimetype": "text/x-python",
   "name": "python",
   "nbconvert_exporter": "python",
   "pygments_lexer": "ipython3",
   "version": "3.7.1"
  }
 },
 "nbformat": 4,
 "nbformat_minor": 2
}
